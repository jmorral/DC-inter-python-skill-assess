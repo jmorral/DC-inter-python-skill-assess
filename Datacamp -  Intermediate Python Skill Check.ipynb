{
 "cells": [
  {
   "cell_type": "code",
   "execution_count": 1,
   "metadata": {},
   "outputs": [],
   "source": [
    "###Datacamp intermediate python skills assessment Check \n",
    "##The questions are not my own work\n",
    "#The answers and explanations are"
   ]
  },
  {
   "cell_type": "code",
   "execution_count": 2,
   "metadata": {},
   "outputs": [
    {
     "name": "stdout",
     "output_type": "stream",
     "text": [
      "17\n",
      "11\n",
      "31\n"
     ]
    }
   ],
   "source": [
    "##Complete the code to return the output\n",
    "#Desired Output: \n",
    "#17\n",
    "#11\n",
    "#31\n",
    "#The output is the last element in each list in the main list, apples. This element occurs at index 2. \n",
    "#The answer should be x[2]\n",
    "\n",
    "apples = [[0,9,17],\n",
    "         [23,34,11],\n",
    "         [26,26,31]]\n",
    "\n",
    "for x in apples:\n",
    "    #print(what?)\n",
    "    print(x[2])"
   ]
  },
  {
   "cell_type": "code",
   "execution_count": 17,
   "metadata": {},
   "outputs": [
    {
     "name": "stdout",
     "output_type": "stream",
     "text": [
      "  product  profit\n",
      "0  apples      20\n",
      "1  apples      10\n",
      "\n",
      "\n",
      "    product  profit\n",
      "may  apples      20\n",
      "jun  apples      10\n"
     ]
    }
   ],
   "source": [
    "##Making the df:\n",
    "import pandas as pd\n",
    "df = pd.DataFrame(data={'product': ['apples', 'apples'], 'profit': [20, 10]})\n",
    "\n",
    "##Following is a preview of dataframe, df:\n",
    "\n",
    "print(df)\n",
    "print('\\n')\n",
    "\n",
    "##Complete the code to return the output\n",
    "#Desired output: replace indices with \"may\" and \"jun\"\n",
    "\n",
    "#      product  profit\n",
    "#may   apples   20\n",
    "#jun   apples   10\n",
    "\n",
    "#Choices:\n",
    "#.names - file type instead of a python method?\n",
    "#.columns - technically returns a result, but it changes the column names not the index of df\n",
    "#.rows - property of an object (like a table or df) that would return individual rows.\n",
    "#.index - this is correct. It changes this property of the object\n",
    "#.index() - this does work because the (). You can't have a function on the left side of the =\n",
    "\n",
    "\n",
    "#Code:\n",
    "#df{what} = ['may', 'jun']\n",
    "df.index = ['may', 'jun']\n",
    "print(df)"
   ]
  },
  {
   "cell_type": "code",
   "execution_count": 21,
   "metadata": {},
   "outputs": [
    {
     "name": "stdout",
     "output_type": "stream",
     "text": [
      "10\n"
     ]
    }
   ],
   "source": [
    "##Complete the code to return the output\n",
    "#Desired output: 10\n",
    "\n",
    "x = 'G'\n",
    "if x == 'A':\n",
    "    print(1)\n",
    "elif x == 'B':\n",
    "    print(4)\n",
    "#what comes next?\n",
    "else: #else comes after elif and if\n",
    "    print(10)"
   ]
  },
  {
   "cell_type": "code",
   "execution_count": 26,
   "metadata": {},
   "outputs": [
    {
     "name": "stdout",
     "output_type": "stream",
     "text": [
      "4\n",
      "1\n",
      "1\n",
      "5\n",
      "9\n",
      "0\n"
     ]
    }
   ],
   "source": [
    "##Complete the code to return the output\n",
    "#Desired output: \n",
    "#4\n",
    "#1\n",
    "#1\n",
    "#5\n",
    "#9\n",
    "#0\n",
    "\n",
    "#Choices:\n",
    "#np.nditer(x): - this is the answer. It will iterate over every element in every dimension for the entire array\n",
    "#x - this will interate over the dimensions, but keep the elements together on a line\n",
    "#x[:] - this basically means \"all of object 'x',\" so it will return the same as just x\n",
    "\n",
    "import numpy as np\n",
    "x = np.array([[4,1,1],\n",
    "             [5,9,0]])\n",
    "\n",
    "#for j in what?\n",
    "for j in (np.nditer(x)):\n",
    "    print(j)"
   ]
  },
  {
   "cell_type": "code",
   "execution_count": 28,
   "metadata": {},
   "outputs": [
    {
     "name": "stdout",
     "output_type": "stream",
     "text": [
      "[ True  True  True  True]\n"
     ]
    }
   ],
   "source": [
    "##Complete the code to return the output\n",
    "#Desired output: [ True True True True ]\n",
    "\n",
    "#import what what what?\n",
    "import numpy as np\n",
    "costs = [9, 15, 5, 15]\n",
    "print(np.array(costs) <= 15)"
   ]
  },
  {
   "cell_type": "code",
   "execution_count": null,
   "metadata": {},
   "outputs": [],
   "source": []
  },
  {
   "cell_type": "code",
   "execution_count": null,
   "metadata": {},
   "outputs": [],
   "source": []
  },
  {
   "cell_type": "code",
   "execution_count": null,
   "metadata": {},
   "outputs": [],
   "source": []
  }
 ],
 "metadata": {
  "kernelspec": {
   "display_name": "Python 3",
   "language": "python",
   "name": "python3"
  },
  "language_info": {
   "codemirror_mode": {
    "name": "ipython",
    "version": 3
   },
   "file_extension": ".py",
   "mimetype": "text/x-python",
   "name": "python",
   "nbconvert_exporter": "python",
   "pygments_lexer": "ipython3",
   "version": "3.7.4"
  }
 },
 "nbformat": 4,
 "nbformat_minor": 2
}
